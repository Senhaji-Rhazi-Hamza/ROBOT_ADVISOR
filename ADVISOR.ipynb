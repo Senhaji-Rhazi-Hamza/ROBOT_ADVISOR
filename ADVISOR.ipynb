{
 "cells": [
  {
   "cell_type": "code",
   "execution_count": 63,
   "metadata": {},
   "outputs": [],
   "source": [
    "# importing the requests library\n",
    "import requests\n",
    "from cvxopt import matrix, solvers\n",
    "import json\n",
    "import datetime\n",
    "from dateutil.relativedelta import *\n",
    "from forex_python.converter import CurrencyRates\n",
    "import numpy as np\n",
    "import re\n",
    "solvers.options['show_progress'] = False"
   ]
  },
  {
   "cell_type": "code",
   "execution_count": 188,
   "metadata": {},
   "outputs": [],
   "source": [
    "import requests\n",
    "import json\n",
    "class RequestManadger:\n",
    "    def __init__(self, url,  user = '', password = '',auth = True):\n",
    "        self.url = url\n",
    "        self.session = requests.Session()\n",
    "        self.ids = []\n",
    "        if (auth):\n",
    "            if ((user != '') and (password != '')):\n",
    "                self.user = user\n",
    "                self.session.auth = (user, password)\n",
    "                self.session.headers.update({'x-test': 'true'})\n",
    "                r = self.session.get(self.url, verify = False)\n",
    "                self.load_datas()\n",
    "                \n",
    "            else :\n",
    "                print(\"you should precise explicitly auth = false if \"\n",
    "                      \"you dont want add a user name and a password\")\n",
    "        else:\n",
    "            return self.session.get(self.url, verify = False)\n",
    "    def load_datas(self):\n",
    "        datas = {'ids':'my_ids.txt',\"ass\":\"my_assets.txt\",\n",
    "                 \"corr\":\"my_corr.txt\",'ass65':\"my_assets65.txt\",\n",
    "                 \"var\":\"my_vars.txt\",\"shp65\":\"my_sharpes65.txt\",\n",
    "                 \"cov\":\"my_cov.txt\",\"shp\":\"my_sharpes.txt\",\n",
    "                 \"prx_cur\":\"my_prx_curr.txt\"}\n",
    "        \n",
    "        self.ids = self.read_file(datas['ids']).astype(int)\n",
    "        self.assets = self.read_file(datas['ass'])\n",
    "        self.sharpes = self.read_file(datas['shp'])\n",
    "        self.assets65 = self.read_file(datas['ass65'])\n",
    "        self.sharpes65 = self.read_file(datas['shp65'])\n",
    "        self.prx_cur = self.read_file(datas['prx_cur'], prx_cur = True).T\n",
    "        self.vars = self.read_file(datas['var'])\n",
    "        self.corr =  self.read_file(datas['corr'])\n",
    "        self.cov =  self.read_file(datas['cov'])\n",
    "        self.cov2 = np.cov(self.assets65)\n",
    "        self.corr2 = np.array([[self.cov2[i][j]/np.sqrt(np.var(self.assets65[i]) * np.var(self.assets65[j])) for j in range(self.cov2.shape[0])] for i in range(self.cov2.shape[1])])\n",
    "        #data1 = f3.readlines() \n",
    "        #self.ret65 = np.array([np.array(data1[i].split()).astype(np.float64) for i in range(len(data1))])\n",
    "        #data2 = f4.readlines()\n",
    "        #self.cov = np.array([np.array(data2[i].split()).astype(np.float64) for i in range(len(data2))])\n",
    "        \n",
    "    def get_request(self,req):\n",
    "        r = self.session.get(self.url + \"/\" + req, verify = False) \n",
    "        return json.loads(r.text)\n",
    "    def get_assetsids(self):\n",
    "        r = self.session.get(self.url + \"/asset\" , verify = False)\n",
    "        dic = json.loads(r.text)\n",
    "        N = len(dic)\n",
    "        ass_ids = np.zeros(N)\n",
    "        for i in range(N):\n",
    "            ass_ids[i] = int(dic[i][\"ASSET_DATABASE_ID\"][\"value\"])\n",
    "        self.ids = ass_ids.astype(int)\n",
    "        self.write_file(self.ids, \"my_ids.txt\")\n",
    "        return self.ids\n",
    "    def get_asset_vecrs(self, ids, jump = 1, allinone = False):\n",
    "        start = datetime.datetime(2012,1,1)\n",
    "        end = datetime.datetime(2017,6,1)\n",
    "        months = (end.year - start.year) * 12 + (end.month - start.month)\n",
    "        asset_vecr = []\n",
    "        asset_vecs =[]\n",
    "        \n",
    "        if not(allinone):\n",
    "            end =  start + relativedelta(months=+jump)\n",
    "        else:\n",
    "            months = 1\n",
    "\n",
    "        \n",
    "        for i in range(months):\n",
    "            obj2 = {'ratio':[21,20],'asset':[int(ids[i]) for i in range(len(ids))],'start_date':start.isoformat(),'end_date':end.isoformat(),'frequency':None}\n",
    "            obj = json.dumps(obj2)\n",
    "            r = self.session.post(self.url + \"/ratio/invoke\", data = obj, verify = False)\n",
    "            dic = json.loads(r.text)\n",
    "            asset_vecr.append([float((dic[str(ids[i])]['21']['value']).replace(\",\",'.')) for i in range(len(ids))])\n",
    "            asset_vecs.append([float((dic[str(ids[i])]['20']['value']).replace(\",\",'.')) for i in range(len(ids))])\n",
    "            \n",
    "           # months = (end.year - start.year) * 12 + (end.month - start.month)\n",
    "            start = start + relativedelta(months=+jump)\n",
    "            end = end + relativedelta(months=+jump)\n",
    "        asset_vecr = np.array(asset_vecr)\n",
    "        asset_vecs = np.array(asset_vecs)\n",
    "        if not(allinone):\n",
    "            self.write_file(asset_vecr.T, 'my_assets65.txt')\n",
    "            self.write_file(asset_vecs.T, 'my_sharpes65.txt')\n",
    "        else:\n",
    "            self.write_file(asset_vecr, 'my_assets.txt')\n",
    "            self.write_file(asset_vecs, 'my_sharpes.txt')\n",
    "            \n",
    "        return asset_vecr, asset_vecs\n",
    "    def write_file(self, data, name):\n",
    "        f1 = open(name, \"w\")\n",
    "        if (len(data.shape) == 2):\n",
    "            for i in range(data.shape[0]):\n",
    "                for j in range(data.shape[1] - 1):\n",
    "                    f1.write(str(data[i][j]) + ' ')\n",
    "                f1.write(str(data[i,data.shape[1] - 1]) + '\\n')\n",
    "        else:\n",
    "            for i in range(data.shape[0] - 1):\n",
    "                    f1.write(str(data[i]) + ' ')\n",
    "            f1.write(str(data[data.shape[0] - 1]) + '\\n')\n",
    "        f1.close()\n",
    "    def read_file(self, name, prx_cur = False):\n",
    "        f1 = open(name, \"r\")\n",
    "        data = f1.readlines()\n",
    "        #print(data)\n",
    "        f1.close()\n",
    "        if (len(data) == 1):\n",
    "            return np.array(data[0].split()).astype(np.float32)\n",
    "        else:\n",
    "            if(prx_cur):\n",
    "                data= np.array([np.array(data[i].split()) for i in range(len(data))])\n",
    "                return np.array([data[:,0].astype(np.float64), data[:,1]])\n",
    "            else:\n",
    "                return np.array([np.array(data[i].split()).astype(np.float64) for i in range(len(data))])\n",
    "    \n",
    "    \n",
    "        \n",
    "    def corr_matrix(self):\n",
    "        ids = self.ids\n",
    "        start = datetime.datetime(2012,1,1)\n",
    "        end = datetime.datetime(2017,6,1)\n",
    "        asset_corr = []\n",
    "        for j in range(len(ids)):\n",
    "            obj2 = {'ratio':[19],'asset':[int(ids[i]) for i in range(len(ids))],'benchmark':int(ids[j]),'start_date':start.isoformat(),'end_date':end.isoformat(),'frequency':None}\n",
    "            obj = json.dumps(obj2)\n",
    "            r = self.session.post(self.url + \"/ratio/invoke\", data = obj, verify = False)\n",
    "            dic = json.loads(r.text)\n",
    "            asset_corr.append([float((dic[str(ids[i])]['19']['value']).replace(\",\",'.')) for i in range(len(ids))])\n",
    "            self.corr_mat = np.array(asset_corr)\n",
    "            self.write_file(self.corr_mat, 'my_corr.txt')\n",
    "        return self.corr_mat\n",
    "    def get_variances(self):\n",
    "        start = datetime.datetime(2012,1,1)\n",
    "        end = datetime.datetime(2017,6,1)\n",
    "        ids = self.ids\n",
    "        var = []\n",
    "        obj2 = {'ratio':[18],'asset':[int(ids[i]) for i in range(len(ids))],'start_date':start.isoformat(),'end_date':end.isoformat(),'frequency':None}\n",
    "        obj = json.dumps(obj2)\n",
    "        r = self.session.post(self.url + \"/ratio/invoke\", data = obj, verify = False)\n",
    "        dic = json.loads(r.text)\n",
    "        var = [float((dic[str(ids[i])]['18']['value']).replace(\",\",'.'))**2 for i in range(len(ids))]\n",
    "        self.var = np.array(var)\n",
    "        self.write_file(self.var, 'my_vars.txt')\n",
    "        return self.var\n",
    "    def get_ass_curr(self):\n",
    "        r = self.get_request(\"asset\")\n",
    "        prices = []\n",
    "        currencys = []\n",
    "        for i in range(len(r)):\n",
    "            a = r[i]['LAST_CLOSE_VALUE']['value']\n",
    "            l = np.array(re.split(\" |,\", a))\n",
    "            price = [l[i]  for i in range(len(l)) if (l[i].isnumeric())]\n",
    "            currency  = r[i]['CURRENCY']['value']\n",
    "            if(len(price) == 2):\n",
    "                price = float(price[0] + '.' + price[1])\n",
    "            else :\n",
    "                price = float(price[0])\n",
    "            prices.append(price)\n",
    "            currencys.append(currency)\n",
    "        self.prx_cur = np.array([np.array(prices), np.array(currencys)]).T\n",
    "        self.write_file(self.prx_cur,'my_prx_curr.txt')\n",
    "        return self.prx_cur\n",
    "\n",
    "\n",
    "\n",
    "    \n",
    "    def get_cov(self):\n",
    "        ids = self.ids\n",
    "        if (self.ids == []):\n",
    "            self.ids = self.get_assetsids()\n",
    "        if (self.corr_mat == []):\n",
    "            self.corr_mat = self.corr_matrix(self, self.ids)\n",
    "        self.cov = np.array([[self.corr_mat[i][j] / np.sqrt(self.var[i] * self.var[j]) for i in range(self.corr_mat.shape[0])]for j in range(self.corr_mat.shape[1]) ])\n",
    "        self.write_file(self.cov, 'my_cov.txt')\n",
    "        return self.cov\n",
    "\n",
    "    def get_portfoliosh(self, ids, Ret_J = False, Sig_J = True):\n",
    "        assert(len(ids) ==20), 'the lentgh of indices should be exactly 20'\n",
    "        w = self.get_weights(ids, Ret_J = Ret_J, Sig_J = Sig_J) \n",
    "        Sigma = []\n",
    "        RT = []\n",
    "        if not(Ret_J):\n",
    "            returns = self.assets65[ids]\n",
    "            RT = np.mean(returns, axis=1).reshape(20,1)\n",
    "        else :\n",
    "            RT = self.assets[ids].reshape(20,1)\n",
    "        if (Sig_J):\n",
    "            Sigma = self.cov[ids][:,ids]\n",
    "        else :\n",
    "            Sigma = self.cov2[ids][:,ids]\n",
    "        \n",
    "        rp =  RT.T.dot(w)\n",
    "        sigmap = np.sqrt(w.T.dot(Sigma.dot(w)))\n",
    "        sharp = rp/sigmap\n",
    "        return np.asscalar(sharp)\n",
    "    def get_asset_quant(self, prx, cur, ammount):\n",
    "        \n",
    "        c = CurrencyRates()\n",
    "       # print(cur)\n",
    "        pr = float(prx)\n",
    "        if (cur == 'EUR'):\n",
    "            return int(ammount/ pr)\n",
    "        else:\n",
    "            val = c.convert(cur,'EUR',pr)\n",
    "            return int(ammount/val)\n",
    "    def get_assets_quant(self, ids, w, big_amount):\n",
    "        assert(len(ids) == len(w)), 'weights and ids are not the same length'\n",
    "        pc = self.prx_cur\n",
    "        \n",
    "        assets_quant = np.array([self.get_asset_quant(pc[i][0], pc[i][1] ,np.asscalar(big_amount * w[i])) for i in range(len(ids))])\n",
    "        return assets_quant\n",
    "    def get_weights(self, ids, Ret_J=False, Sig_J= True):\n",
    "        assert(len(ids) == 20), 'the lentgh of indices should be exactly 20' \n",
    "        Sigma = []\n",
    "        RT = []\n",
    "        if not(Ret_J):\n",
    "            returns = self.assets65[ids]\n",
    "            RT = np.mean(returns, axis=1).reshape(20,1).astype(np.double)\n",
    "        else :\n",
    "            RT = self.assets[ids].reshape(20,1).astype(np.double)\n",
    "        if (Sig_J):\n",
    "            Sigma = self.cov[ids][:,ids]\n",
    "        else :\n",
    "            Sigma = self.cov2[ids][:,ids]\n",
    "            \n",
    "        N = 20\n",
    "        P = matrix(Sigma)\n",
    "        q = matrix(-2 * RT,tc='d')\n",
    "        G = matrix(np.vstack((np.identity(N), -np.identity(N))),tc='d')\n",
    "\n",
    "        h = matrix(np.hstack((0.1 * np.ones(N), np.ones(N) * -0.01)), tc='d')\n",
    "        A = matrix(np.ones(N), (1,N)) \n",
    "        b = matrix([1.0])\n",
    "        sol = solvers.qp(P, q, G, h, A, b)\n",
    "        W = sol['x']\n",
    "        return np.array(W)\n",
    "            \n",
    "        \n",
    "            "
   ]
  },
  {
   "cell_type": "code",
   "execution_count": 189,
   "metadata": {},
   "outputs": [
    {
     "name": "stderr",
     "output_type": "stream",
     "text": [
      "/usr/lib/python3/dist-packages/urllib3/connectionpool.py:794: InsecureRequestWarning: Unverified HTTPS request is being made. Adding certificate verification is strongly advised. See: https://urllib3.readthedocs.org/en/latest/security.html\n",
      "  InsecureRequestWarning)\n"
     ]
    }
   ],
   "source": [
    "URL = 'https://dolphin.jump-technology.com:3389/api/v1'\n",
    "user = 'epita_user_5'\n",
    "pwd = 'dolphin23235'\n",
    "rm = RequestManadger(URL,user, pwd)\n",
    "\n"
   ]
  },
  {
   "cell_type": "code",
   "execution_count": 158,
   "metadata": {},
   "outputs": [
    {
     "name": "stdout",
     "output_type": "stream",
     "text": [
      "Use Jump Return + Jump Sigma  : 0.20161985138146446\n",
      "Use Jump Return + 65 Sigma  : 80.65770457071\n",
      "Use 65 Return +  Jump Sigma : 0.001624921225077248\n",
      "Use 65 Return + 65 Sigma : 0.6535830034613018\n",
      "Sum of sharpes : 81.51453234677784\n"
     ]
    }
   ],
   "source": [
    "f1 = open(\"my_sharpes.txt\",\"r\")\n",
    "sharpes = np.array(f1.readline().split()).astype(np.float32)\n",
    "f1.close()\n",
    "idx = np.argsort(sharpes)[::-1]\n",
    "ids = idx[:20]\n",
    "sh1 = rm.get_portfoliosh(ids,Ret_J=True, Sig_J=True)\n",
    "sh2 = rm.get_portfoliosh(ids, Ret_J=True, Sig_J=False)\n",
    "sh3 = rm.get_portfoliosh(ids, Ret_J=False, Sig_J=True)\n",
    "sh4 = rm.get_portfoliosh(ids, Ret_J=False, Sig_J=False)\n",
    "print(\"Use Jump Return + Jump Sigma  :\", sh1)\n",
    "print(\"Use Jump Return + 65 Sigma  :\", sh2)\n",
    "print(\"Use 65 Return +  Jump Sigma :\", sh3)\n",
    "print(\"Use 65 Return + 65 Sigma :\", sh4)\n",
    "print(\"Sum of sharpes :\", sh1 + sh2 + sh3 + sh4)\n",
    "\n"
   ]
  },
  {
   "cell_type": "code",
   "execution_count": 168,
   "metadata": {},
   "outputs": [
    {
     "data": {
      "text/plain": [
       "(20, 1)"
      ]
     },
     "execution_count": 168,
     "metadata": {},
     "output_type": "execute_result"
    }
   ],
   "source": [
    "w = rm.get_weights(ids)\n",
    "w.shape"
   ]
  },
  {
   "cell_type": "code",
   "execution_count": 160,
   "metadata": {},
   "outputs": [
    {
     "data": {
      "text/plain": [
       "numpy.str_"
      ]
     },
     "execution_count": 160,
     "metadata": {},
     "output_type": "execute_result"
    }
   ],
   "source": [
    "type(rm.prx_cur[0,0])"
   ]
  },
  {
   "cell_type": "code",
   "execution_count": 190,
   "metadata": {},
   "outputs": [
    {
     "data": {
      "text/plain": [
       "array([ 8068,  5159,  2380,  5583,   791,   696,   763,  1512,    45,\n",
       "        5785,  1357,   915, 12793,  9254,  4902,  4101,  7543, 13315,\n",
       "         555,  3244])"
      ]
     },
     "execution_count": 190,
     "metadata": {},
     "output_type": "execute_result"
    }
   ],
   "source": [
    "rm.get_assets_quant(ids,w , 1e7)"
   ]
  },
  {
   "cell_type": "code",
   "execution_count": 101,
   "metadata": {},
   "outputs": [
    {
     "data": {
      "text/plain": [
       "589"
      ]
     },
     "execution_count": 101,
     "metadata": {},
     "output_type": "execute_result"
    }
   ],
   "source": [
    "rm.get_asset_quant(200, 'USD',100000)"
   ]
  },
  {
   "cell_type": "code",
   "execution_count": 176,
   "metadata": {},
   "outputs": [
    {
     "name": "stderr",
     "output_type": "stream",
     "text": [
      "/usr/lib/python3/dist-packages/urllib3/connectionpool.py:794: InsecureRequestWarning: Unverified HTTPS request is being made. Adding certificate verification is strongly advised. See: https://urllib3.readthedocs.org/en/latest/security.html\n",
      "  InsecureRequestWarning)\n"
     ]
    }
   ],
   "source": [
    "ret65, sh65 = rm.get_asset_vecrs(rm.ids)"
   ]
  },
  {
   "cell_type": "code",
   "execution_count": 177,
   "metadata": {},
   "outputs": [
    {
     "name": "stderr",
     "output_type": "stream",
     "text": [
      "/usr/lib/python3/dist-packages/urllib3/connectionpool.py:794: InsecureRequestWarning: Unverified HTTPS request is being made. Adding certificate verification is strongly advised. See: https://urllib3.readthedocs.org/en/latest/security.html\n",
      "  InsecureRequestWarning)\n"
     ]
    }
   ],
   "source": [
    "ret, sh = rm.get_asset_vecrs(rm.ids, allinone=True)"
   ]
  },
  {
   "cell_type": "code",
   "execution_count": 185,
   "metadata": {},
   "outputs": [
    {
     "name": "stderr",
     "output_type": "stream",
     "text": [
      "/usr/lib/python3/dist-packages/urllib3/connectionpool.py:794: InsecureRequestWarning: Unverified HTTPS request is being made. Adding certificate verification is strongly advised. See: https://urllib3.readthedocs.org/en/latest/security.html\n",
      "  InsecureRequestWarning)\n"
     ]
    }
   ],
   "source": [
    "var = rm.get_variances()"
   ]
  },
  {
   "cell_type": "code",
   "execution_count": 187,
   "metadata": {},
   "outputs": [
    {
     "name": "stderr",
     "output_type": "stream",
     "text": [
      "/usr/lib/python3/dist-packages/urllib3/connectionpool.py:794: InsecureRequestWarning: Unverified HTTPS request is being made. Adding certificate verification is strongly advised. See: https://urllib3.readthedocs.org/en/latest/security.html\n",
      "  InsecureRequestWarning)\n"
     ]
    }
   ],
   "source": [
    "corr = rm.corr_matrix()\n"
   ]
  },
  {
   "cell_type": "code",
   "execution_count": 197,
   "metadata": {},
   "outputs": [
    {
     "name": "stderr",
     "output_type": "stream",
     "text": [
      "/usr/local/lib/python3.5/dist-packages/ipykernel_launcher.py:146: DeprecationWarning: elementwise == comparison failed; this will raise an error in the future.\n",
      "/usr/local/lib/python3.5/dist-packages/ipykernel_launcher.py:148: DeprecationWarning: elementwise == comparison failed; this will raise an error in the future.\n"
     ]
    }
   ],
   "source": [
    "rm.var = var\n",
    "rm.corr_mat = corr\n",
    "cov = rm.get_cov()"
   ]
  },
  {
   "cell_type": "code",
   "execution_count": 104,
   "metadata": {},
   "outputs": [],
   "source": [
    "data = np.array([prx, curs])\n",
    "data.shape\n",
    "write_file(data.T, 'price_currency.txt')"
   ]
  },
  {
   "cell_type": "code",
   "execution_count": 199,
   "metadata": {},
   "outputs": [
    {
     "data": {
      "text/plain": [
       "{'ass65': 'my_assets65.txt', 'ids': 'my_ids.tx'}"
      ]
     },
     "execution_count": 199,
     "metadata": {},
     "output_type": "execute_result"
    }
   ],
   "source": [
    "datas = {'ids':'my_ids.tx','ass65':\"my_assets65.txt\"}\n",
    "datas"
   ]
  },
  {
   "cell_type": "code",
   "execution_count": null,
   "metadata": {},
   "outputs": [],
   "source": [
    "def get_asset_quant(prx, cur ammount):\n",
    "    c = CurrencyRates()\n",
    "    if (cur == 'EUR'):\n",
    "        return int(amount/ prx)\n",
    "    else:\n",
    "        return int(amoun/(c.convert(cur,'EUR',prx)))\n",
    "\n",
    "    "
   ]
  },
  {
   "cell_type": "code",
   "execution_count": 49,
   "metadata": {},
   "outputs": [
    {
     "name": "stderr",
     "output_type": "stream",
     "text": [
      "/usr/lib/python3/dist-packages/urllib3/connectionpool.py:794: InsecureRequestWarning: Unverified HTTPS request is being made. Adding certificate verification is strongly advised. See: https://urllib3.readthedocs.org/en/latest/security.html\n",
      "  InsecureRequestWarning)\n"
     ]
    }
   ],
   "source": [
    "r= rm.get_request(\"asset\")"
   ]
  },
  {
   "cell_type": "code",
   "execution_count": 91,
   "metadata": {},
   "outputs": [
    {
     "data": {
      "text/plain": [
       "'359,34 EUR'"
      ]
     },
     "execution_count": 91,
     "metadata": {},
     "output_type": "execute_result"
    }
   ],
   "source": [
    "r[100]['LAST_CLOSE_VALUE']['value']"
   ]
  },
  {
   "cell_type": "code",
   "execution_count": 60,
   "metadata": {},
   "outputs": [
    {
     "data": {
      "text/plain": [
       "'USD'"
      ]
     },
     "execution_count": 60,
     "metadata": {},
     "output_type": "execute_result"
    }
   ],
   "source": [
    "r[99]['CURRENCY']['value']"
   ]
  },
  {
   "cell_type": "code",
   "execution_count": 96,
   "metadata": {},
   "outputs": [
    {
     "data": {
      "text/plain": [
       "array(['359.34', 'EUR'],\n",
       "      dtype='<U32')"
      ]
     },
     "execution_count": 96,
     "metadata": {},
     "output_type": "execute_result"
    }
   ],
   "source": [
    "data.T[100]"
   ]
  },
  {
   "cell_type": "code",
   "execution_count": 103,
   "metadata": {},
   "outputs": [],
   "source": [
    "def write_file(data, name):\n",
    "    f1 = open(name, \"w\")\n",
    "    if (len(data.shape) == 2):\n",
    "        for i in range(data.shape[0]):\n",
    "            for j in range(data.shape[1] - 1):\n",
    "                f1.write(str(data[i][j]) + ' ')\n",
    "            f1.write(str(data[i,data.shape[1] - 1]) + '\\n')\n",
    "    else:\n",
    "        for j in range(data.shape[0] - 1):\n",
    "                f1.write(str(data[i]) + ' ')\n",
    "                f1.write(str(data[data.shape[0] - 1]) + '\\n')\n",
    "    f1.close()"
   ]
  },
  {
   "cell_type": "code",
   "execution_count": null,
   "metadata": {},
   "outputs": [],
   "source": []
  },
  {
   "cell_type": "code",
   "execution_count": 98,
   "metadata": {},
   "outputs": [],
   "source": [
    "cov = np.array([[a[i][j]  / np.sqrt(b[i] * b[j])for i in range(a.shape[0])]for j in range(a.shape[1]) ])\n",
    "   "
   ]
  },
  {
   "cell_type": "code",
   "execution_count": 39,
   "metadata": {},
   "outputs": [
    {
     "name": "stderr",
     "output_type": "stream",
     "text": [
      "/usr/lib/python3/dist-packages/urllib3/connectionpool.py:794: InsecureRequestWarning: Unverified HTTPS request is being made. Adding certificate verification is strongly advised. See: https://urllib3.readthedocs.org/en/latest/security.html\n",
      "  InsecureRequestWarning)\n"
     ]
    },
    {
     "data": {
      "text/plain": [
       "[{'id': 15,\n",
       "  'is_benchmark_needed': True,\n",
       "  'is_percent': False,\n",
       "  'name': 'Beta',\n",
       "  'type': 'Ratio'},\n",
       " {'id': 19,\n",
       "  'is_benchmark_needed': True,\n",
       "  'is_percent': False,\n",
       "  'name': 'Correlation',\n",
       "  'type': 'Ratio'},\n",
       " {'id': 29,\n",
       "  'is_benchmark_needed': False,\n",
       "  'is_percent': True,\n",
       "  'name': 'Exposition action',\n",
       "  'type': 'Ratio'},\n",
       " {'id': 16,\n",
       "  'is_benchmark_needed': False,\n",
       "  'is_percent': True,\n",
       "  'name': 'RDT',\n",
       "  'type': 'Ratio'},\n",
       " {'id': 21,\n",
       "  'is_benchmark_needed': False,\n",
       "  'is_percent': True,\n",
       "  'name': 'Rendement',\n",
       "  'type': 'Ratio'},\n",
       " {'id': 17,\n",
       "  'is_benchmark_needed': False,\n",
       "  'is_percent': True,\n",
       "  'name': 'Rendement_annualise',\n",
       "  'type': 'Ratio'},\n",
       " {'id': 20,\n",
       "  'is_benchmark_needed': False,\n",
       "  'is_percent': False,\n",
       "  'name': 'Sharpe',\n",
       "  'type': 'Ratio'},\n",
       " {'id': 22,\n",
       "  'is_benchmark_needed': False,\n",
       "  'is_percent': True,\n",
       "  'name': 'VaR historique',\n",
       "  'type': 'Ratio'},\n",
       " {'id': 18,\n",
       "  'is_benchmark_needed': False,\n",
       "  'is_percent': True,\n",
       "  'name': 'Volatilite',\n",
       "  'type': 'Ratio'}]"
      ]
     },
     "execution_count": 39,
     "metadata": {},
     "output_type": "execute_result"
    }
   ],
   "source": [
    "idss = rm.get_assetsids()\n",
    "idss = idss.astype(np.int32)\n",
    "rm.get_request(\"ratio\")"
   ]
  },
  {
   "cell_type": "code",
   "execution_count": 44,
   "metadata": {},
   "outputs": [],
   "source": [
    "asset_corr = []\n",
    "self = rm\n",
    "ids = idss[:10]\n",
    "start = datetime.datetime(2012,1,1)\n",
    "end = datetime.datetime(2017,6,1)\n"
   ]
  },
  {
   "cell_type": "code",
   "execution_count": 45,
   "metadata": {},
   "outputs": [
    {
     "name": "stderr",
     "output_type": "stream",
     "text": [
      "/usr/lib/python3/dist-packages/urllib3/connectionpool.py:794: InsecureRequestWarning: Unverified HTTPS request is being made. Adding certificate verification is strongly advised. See: https://urllib3.readthedocs.org/en/latest/security.html\n",
      "  InsecureRequestWarning)\n"
     ]
    }
   ],
   "source": [
    "obj2 = {'ratio':[19],'asset':[int(ids[i]) for i in range(len(ids))],'benchmark':315,'start_date':start.isoformat(),'end_date':end.isoformat(),'frequency':None}\n",
    "obj = json.dumps(obj2)\n",
    "r = self.session.post(self.url + \"/ratio/invoke\", data = obj, verify = False)\n",
    "dic = json.loads(r.text)\n",
    "#a = [float((dic[str(ids[i])]['18']['value']).replace(\",\",'.')) for i in range(len(ids))]\n",
    "       "
   ]
  },
  {
   "cell_type": "code",
   "execution_count": 47,
   "metadata": {},
   "outputs": [
    {
     "data": {
      "text/plain": [
       "'0.999265785609'"
      ]
     },
     "execution_count": 47,
     "metadata": {},
     "output_type": "execute_result"
    }
   ],
   "source": [
    "dic[str(ids[0])]['19']['value'].replace(\",\",'.')"
   ]
  },
  {
   "cell_type": "markdown",
   "metadata": {},
   "source": [
    "## 1 ) Trivial Classificaion by best sharps"
   ]
  },
  {
   "cell_type": "code",
   "execution_count": 76,
   "metadata": {},
   "outputs": [
    {
     "name": "stdout",
     "output_type": "stream",
     "text": [
      "Use Jump Return + Jump Sigma  : 0.20161985138146446\n",
      "Use Jump Return + 65 Sigma  : 80.65770457071\n",
      "Use 65 Return +  Jump Sigma : 0.001624921225077248\n",
      "Use 65 Return + 65 Sigma : 0.6535830034613018\n",
      "Sum of sharpes : 81.51453234677784\n"
     ]
    },
    {
     "ename": "AttributeError",
     "evalue": "'RequestManadger' object has no attribute 'prx_cur'",
     "output_type": "error",
     "traceback": [
      "\u001b[0;31m---------------------------------------------------------------------------\u001b[0m",
      "\u001b[0;31mAttributeError\u001b[0m                            Traceback (most recent call last)",
      "\u001b[0;32m<ipython-input-76-69b1359889bc>\u001b[0m in \u001b[0;36m<module>\u001b[0;34m()\u001b[0m\n\u001b[1;32m     13\u001b[0m \u001b[0mprint\u001b[0m\u001b[0;34m(\u001b[0m\u001b[0;34m\"Use 65 Return + 65 Sigma :\"\u001b[0m\u001b[0;34m,\u001b[0m \u001b[0msh4\u001b[0m\u001b[0;34m)\u001b[0m\u001b[0;34m\u001b[0m\u001b[0m\n\u001b[1;32m     14\u001b[0m \u001b[0mprint\u001b[0m\u001b[0;34m(\u001b[0m\u001b[0;34m\"Sum of sharpes :\"\u001b[0m\u001b[0;34m,\u001b[0m \u001b[0msh1\u001b[0m \u001b[0;34m+\u001b[0m \u001b[0msh2\u001b[0m \u001b[0;34m+\u001b[0m \u001b[0msh3\u001b[0m \u001b[0;34m+\u001b[0m \u001b[0msh4\u001b[0m\u001b[0;34m)\u001b[0m\u001b[0;34m\u001b[0m\u001b[0m\n\u001b[0;32m---> 15\u001b[0;31m \u001b[0mrm\u001b[0m\u001b[0;34m.\u001b[0m\u001b[0mget_assets_quant\u001b[0m\u001b[0;34m(\u001b[0m\u001b[0mids\u001b[0m\u001b[0;34m,\u001b[0m \u001b[0mrm\u001b[0m\u001b[0;34m.\u001b[0m\u001b[0mget_weights\u001b[0m\u001b[0;34m(\u001b[0m\u001b[0mids\u001b[0m\u001b[0;34m)\u001b[0m\u001b[0;34m,\u001b[0m \u001b[0;36m10\u001b[0m\u001b[0;34m*\u001b[0m\u001b[0;36m1e6\u001b[0m\u001b[0;34m)\u001b[0m\u001b[0;34m\u001b[0m\u001b[0m\n\u001b[0m",
      "\u001b[0;32m<ipython-input-64-541bc99629f8>\u001b[0m in \u001b[0;36mget_assets_quant\u001b[0;34m(self, ids, w, big_amount)\u001b[0m\n\u001b[1;32m    202\u001b[0m     \u001b[0;32mdef\u001b[0m \u001b[0mget_assets_quant\u001b[0m\u001b[0;34m(\u001b[0m\u001b[0mself\u001b[0m\u001b[0;34m,\u001b[0m \u001b[0mids\u001b[0m\u001b[0;34m,\u001b[0m \u001b[0mw\u001b[0m\u001b[0;34m,\u001b[0m \u001b[0mbig_amount\u001b[0m\u001b[0;34m)\u001b[0m\u001b[0;34m:\u001b[0m\u001b[0;34m\u001b[0m\u001b[0m\n\u001b[1;32m    203\u001b[0m         \u001b[0;32massert\u001b[0m\u001b[0;34m(\u001b[0m\u001b[0mlen\u001b[0m\u001b[0;34m(\u001b[0m\u001b[0mids\u001b[0m\u001b[0;34m)\u001b[0m \u001b[0;34m==\u001b[0m \u001b[0mlen\u001b[0m\u001b[0;34m(\u001b[0m\u001b[0mw\u001b[0m\u001b[0;34m)\u001b[0m\u001b[0;34m)\u001b[0m\u001b[0;34m,\u001b[0m \u001b[0;34m'weights and ids are not the same length'\u001b[0m\u001b[0;34m\u001b[0m\u001b[0m\n\u001b[0;32m--> 204\u001b[0;31m         \u001b[0mpc\u001b[0m \u001b[0;34m=\u001b[0m \u001b[0mself\u001b[0m\u001b[0;34m.\u001b[0m\u001b[0mprx_cur\u001b[0m\u001b[0;34m\u001b[0m\u001b[0m\n\u001b[0m\u001b[1;32m    205\u001b[0m         \u001b[0massets_quant\u001b[0m \u001b[0;34m=\u001b[0m \u001b[0mnp\u001b[0m\u001b[0;34m.\u001b[0m\u001b[0marray\u001b[0m\u001b[0;34m(\u001b[0m\u001b[0;34m[\u001b[0m\u001b[0mself\u001b[0m\u001b[0;34m.\u001b[0m\u001b[0mget_asset_quant\u001b[0m\u001b[0;34m(\u001b[0m\u001b[0mself\u001b[0m\u001b[0;34m,\u001b[0m \u001b[0mpc\u001b[0m\u001b[0;34m[\u001b[0m\u001b[0mi\u001b[0m\u001b[0;34m]\u001b[0m\u001b[0;34m[\u001b[0m\u001b[0;36m0\u001b[0m\u001b[0;34m]\u001b[0m\u001b[0;34m,\u001b[0m \u001b[0mpc\u001b[0m\u001b[0;34m[\u001b[0m\u001b[0mi\u001b[0m\u001b[0;34m]\u001b[0m\u001b[0;34m[\u001b[0m\u001b[0;36m1\u001b[0m\u001b[0;34m]\u001b[0m \u001b[0;34m,\u001b[0m\u001b[0mbig_amount\u001b[0m \u001b[0;34m*\u001b[0m \u001b[0mw\u001b[0m\u001b[0;34m[\u001b[0m\u001b[0mi\u001b[0m\u001b[0;34m]\u001b[0m\u001b[0;34m)\u001b[0m \u001b[0;32mfor\u001b[0m \u001b[0mi\u001b[0m \u001b[0;32min\u001b[0m \u001b[0mrange\u001b[0m\u001b[0;34m(\u001b[0m\u001b[0mlen\u001b[0m\u001b[0;34m(\u001b[0m\u001b[0mids\u001b[0m\u001b[0;34m)\u001b[0m\u001b[0;34m)\u001b[0m\u001b[0;34m]\u001b[0m\u001b[0;34m)\u001b[0m\u001b[0;34m\u001b[0m\u001b[0m\n\u001b[1;32m    206\u001b[0m         \u001b[0;32mreturn\u001b[0m \u001b[0massets_quant\u001b[0m\u001b[0;34m\u001b[0m\u001b[0m\n",
      "\u001b[0;31mAttributeError\u001b[0m: 'RequestManadger' object has no attribute 'prx_cur'"
     ]
    }
   ],
   "source": [
    "f1 = open(\"my_sharpes.txt\",\"r\")\n",
    "sharpes = np.array(f1.readline().split()).astype(np.float32)\n",
    "f1.close()\n",
    "idx = np.argsort(sharpes)[::-1]\n",
    "ids = idx[:20]\n",
    "sh1 = rm.get_portfoliosh(ids,Ret_J=True, Sig_J=True)\n",
    "sh2 = rm.get_portfoliosh(ids, Ret_J=True, Sig_J=False)\n",
    "sh3 = rm.get_portfoliosh(ids, Ret_J=False, Sig_J=True)\n",
    "sh4 = rm.get_portfoliosh(ids, Ret_J=False, Sig_J=False)\n",
    "print(\"Use Jump Return + Jump Sigma  :\", sh1)\n",
    "print(\"Use Jump Return + 65 Sigma  :\", sh2)\n",
    "print(\"Use 65 Return +  Jump Sigma :\", sh3)\n",
    "print(\"Use 65 Return + 65 Sigma :\", sh4)\n",
    "print(\"Sum of sharpes :\", sh1 + sh2 + sh3 + sh4)\n",
    "rm.get_assets_quant(ids, rm.get_weights(ids), 10*1e6)"
   ]
  },
  {
   "cell_type": "markdown",
   "metadata": {},
   "source": [
    "# 2) Sharpe of sharpe classification"
   ]
  },
  {
   "cell_type": "code",
   "execution_count": 75,
   "metadata": {},
   "outputs": [
    {
     "name": "stdout",
     "output_type": "stream",
     "text": [
      "Use Jump Return + Jump Sigma  : 0.04610290946355646\n",
      "Use Jump Return + 65 Sigma  : 24.107636373581098\n",
      "Use 65 Return +  Jump Sigma : 0.001007848957492074\n",
      "Use 65 Return + 65 Sigma : 0.32696442592667807\n",
      "Sum of sharpes : 24.481711557928826\n"
     ]
    }
   ],
   "source": [
    "f2 = open(\"my_sharpes65.txt\", \"r\")\n",
    "data2 = f2.readlines() \n",
    "sharpes = np.array([np.array(data2[i].split()).astype(np.float64) for i in range(len(data2))])\n",
    "f2.close()\n",
    "eps = 1e-5\n",
    "rfs = sharpes.min() - eps\n",
    "resharpes = np.array([(sharpes[i].mean() - rfs)/np.var(sharpes[i]) for i in range(sharpes.shape[0])])\n",
    "idx2 = np.argsort(resharpes)[::-1]\n",
    "#print(idx2)\n",
    "ids = idx2[:20]\n",
    "sh1 = rm.get_portfoliosh(ids,Ret_J=True, Sig_J=True)\n",
    "sh2 = rm.get_portfoliosh(ids, Ret_J=True, Sig_J=False)\n",
    "sh3 = rm.get_portfoliosh(ids, Ret_J=False, Sig_J=True)\n",
    "sh4 = rm.get_portfoliosh(ids, Ret_J=False, Sig_J=False)\n",
    "print(\"Use Jump Return + Jump Sigma  :\", sh1)\n",
    "print(\"Use Jump Return + 65 Sigma  :\", sh2)\n",
    "print(\"Use 65 Return +  Jump Sigma :\", sh3)\n",
    "print(\"Use 65 Return + 65 Sigma :\", sh4)\n",
    "print(\"Sum of sharpes :\", sh1 + sh2 + sh3 + sh4)"
   ]
  },
  {
   "cell_type": "markdown",
   "metadata": {},
   "source": [
    "# 3) the most decorelated sharpe classification"
   ]
  },
  {
   "cell_type": "code",
   "execution_count": 47,
   "metadata": {},
   "outputs": [],
   "source": [
    "f3 = open(\"my_assets.txt\",\"r\")\n",
    "data1 = f3.readlines() \n",
    "assets_ret = np.array([np.array(data1[i].split()).astype(np.float64) for i in range(len(data1))])\n",
    "\n"
   ]
  },
  {
   "cell_type": "code",
   "execution_count": 49,
   "metadata": {},
   "outputs": [
    {
     "ename": "TypeError",
     "evalue": "delete() missing 1 required positional argument: 'obj'",
     "output_type": "error",
     "traceback": [
      "\u001b[0;31m---------------------------------------------------------------------------\u001b[0m",
      "\u001b[0;31mTypeError\u001b[0m                                 Traceback (most recent call last)",
      "\u001b[0;32m<ipython-input-49-1f0982e000c5>\u001b[0m in \u001b[0;36m<module>\u001b[0;34m()\u001b[0m\n\u001b[1;32m     16\u001b[0m \u001b[0;32mfor\u001b[0m \u001b[0mi\u001b[0m \u001b[0;32min\u001b[0m \u001b[0mrange\u001b[0m\u001b[0;34m(\u001b[0m\u001b[0mn\u001b[0m \u001b[0;34m-\u001b[0m \u001b[0;36m1\u001b[0m\u001b[0;34m)\u001b[0m\u001b[0;34m:\u001b[0m\u001b[0;34m\u001b[0m\u001b[0m\n\u001b[1;32m     17\u001b[0m     \u001b[0;31m#print(b.shape)\u001b[0m\u001b[0;34m\u001b[0m\u001b[0;34m\u001b[0m\u001b[0m\n\u001b[0;32m---> 18\u001b[0;31m     \u001b[0mb1\u001b[0m \u001b[0;34m=\u001b[0m \u001b[0mnp\u001b[0m\u001b[0;34m.\u001b[0m\u001b[0mdelete\u001b[0m\u001b[0;34m(\u001b[0m\u001b[0mbest_assets\u001b[0m\u001b[0;34m[\u001b[0m\u001b[0;34m-\u001b[0m\u001b[0;36m1\u001b[0m\u001b[0;34m]\u001b[0m\u001b[0;34m)\u001b[0m\u001b[0;34m\u001b[0m\u001b[0m\n\u001b[0m\u001b[1;32m     19\u001b[0m     \u001b[0mcor1\u001b[0m \u001b[0;34m=\u001b[0m \u001b[0mnp\u001b[0m\u001b[0;34m.\u001b[0m\u001b[0mcorrcoef\u001b[0m\u001b[0;34m(\u001b[0m\u001b[0mb\u001b[0m\u001b[0;34m)\u001b[0m\u001b[0;34m\u001b[0m\u001b[0m\n\u001b[1;32m     20\u001b[0m     \u001b[0;31m#print(cor)\u001b[0m\u001b[0;34m\u001b[0m\u001b[0;34m\u001b[0m\u001b[0m\n",
      "\u001b[0;31mTypeError\u001b[0m: delete() missing 1 required positional argument: 'obj'"
     ]
    }
   ],
   "source": [
    "#we reduce the assets by dividing by sigma as the correlation matrix would be exactly as covariance matrix because\n",
    "#we want to use the property cov(x+y, z) = cov(x,z) + cov(y, z)\n",
    "assets_ret_reduced = np.array([assets_ret[i]/np.sqrt(np.var(assets_ret[i])) for i in range(assets_ret.shape[0])])\n",
    "idx3 = idx[:100]\n",
    "b = assets_ret_reduced[idx3]\n",
    "n = 20\n",
    "btmp = assets_ret[0]\n",
    "best_assets = [btmp]\n",
    "# Sequence initialization\n",
    "Xn0 = btmp\n",
    "Xn1 = btmp\n",
    "cor1 = np.corrcoef(b)\n",
    "Zn0 = assets_ret_reduced[cor1[0].argmin()]\n",
    "Zn1 = Zn0\n",
    "b1 = np.array(b)\n",
    "b2 = np.array(b)\n",
    "index = 0\n",
    "for i in range(n - 1):\n",
    "    #print(b.shape)\n",
    "    b1 = np.delete(b1, 0, axis = 0)\n",
    "    b1 = b1.insert(b1,0, Xn1, axis = 0)\n",
    "    \n",
    "    b2 = np.delete(best_assets[-1])\n",
    "    cor1 = np.corrcoef(b1)\n",
    "    #print(cor)\n",
    "    i = np.argmin(np.abs(cor[0]))\n",
    "    assert(btmp.shape == b[i].shape),'error shape'\n",
    "    btmp = btmp + b[i]\n",
    "    #print(b.shape)\n",
    "    #print(btmp.shape,\"btmp\")\n",
    "    b = np.delete(b, 0, axis = 0)\n",
    "    b = np.insert(b,0,btmp, axis = 0)\n",
    "\n",
    "best_ever = b[indexs]\n"
   ]
  },
  {
   "cell_type": "code",
   "execution_count": 42,
   "metadata": {},
   "outputs": [
    {
     "data": {
      "text/plain": [
       "15"
      ]
     },
     "execution_count": 42,
     "metadata": {},
     "output_type": "execute_result"
    }
   ],
   "source": [
    "f1 = open(\"ret_ass1.txt\", \"w\")\n",
    "for i in range(ret.shape[1] - 1):\n",
    "    f1.write(str(ret[0][i]) + ' ')\n",
    "f1.write(str(ret[0,ret.shape[1] - 1]) + '\\n')\n",
    "f1.close()\n",
    "f1 = open(\"sh_ass1.txt\", \"w\")\n",
    "for i in range(sh.shape[1] - 1):\n",
    "    f1.write(str(sh[0][i]) + ' ')\n",
    "f1.write(str(sh[0,sh.shape[1] - 1]) + '\\n')\n",
    "f1.close()"
   ]
  },
  {
   "cell_type": "code",
   "execution_count": 107,
   "metadata": {},
   "outputs": [],
   "source": [
    "ids = idx[:20]\n",
    "w = np.array(W)\n",
    "f1 = open(\"ret_ass1.txt\", \"r\")\n",
    "f2 = open(\"sh_ass1.txt\", \"r\")\n",
    "f3 = open(\"my_assets.txt\",\"r\")\n",
    "rets = np.array(f1.readline().split()).astype(np.float32)[ids].reshape(20,1)\n",
    "sh = np.array(f2.readline().split()).astype(np.float32)[ids].reshape(20,1)\n",
    "data1 = f3.readlines() \n",
    "ret_cov = np.array([np.array(data1[i].split()).astype(np.float64) for i in range(len(data1))])[ids]\n",
    "        \n",
    "            "
   ]
  },
  {
   "cell_type": "code",
   "execution_count": 134,
   "metadata": {},
   "outputs": [],
   "source": [
    "w= np.array(w)"
   ]
  },
  {
   "cell_type": "code",
   "execution_count": 139,
   "metadata": {},
   "outputs": [
    {
     "data": {
      "text/plain": [
       "array([[ 32.30904133]])"
      ]
     },
     "execution_count": 139,
     "metadata": {},
     "output_type": "execute_result"
    }
   ],
   "source": [
    "Sigma = np.cov(ret_cov)\n",
    "sigmap = np.sqrt(w.T.dot(Sigma.dot(w)))\n",
    "rp =  rets.T.dot(w)\n",
    "sharp = rp/sigmap\n",
    "sharp"
   ]
  },
  {
   "cell_type": "code",
   "execution_count": 49,
   "metadata": {},
   "outputs": [],
   "source": [
    "idx2 = np.argsort(sh)[::-1]"
   ]
  },
  {
   "cell_type": "code",
   "execution_count": 50,
   "metadata": {},
   "outputs": [
    {
     "data": {
      "text/plain": [
       "array([444, 445,  67, 268, 319, 226,  19, 200, 101, 395, 289,  66,  72,\n",
       "       514, 304,  41,  52, 334,  71, 147])"
      ]
     },
     "execution_count": 50,
     "metadata": {},
     "output_type": "execute_result"
    }
   ],
   "source": [
    "idx2[:20]"
   ]
  },
  {
   "cell_type": "code",
   "execution_count": 51,
   "metadata": {},
   "outputs": [
    {
     "data": {
      "text/plain": [
       "array([501, 376, 145, 194,  53, 243,  47, 417, 396, 441,  95, 483, 245,\n",
       "       251, 419, 523, 348,  80, 368, 330])"
      ]
     },
     "execution_count": 51,
     "metadata": {},
     "output_type": "execute_result"
    }
   ],
   "source": [
    "idx[:20]"
   ]
  },
  {
   "cell_type": "code",
   "execution_count": 3,
   "metadata": {},
   "outputs": [
    {
     "name": "stdout",
     "output_type": "stream",
     "text": [
      "sucess\n"
     ]
    }
   ],
   "source": [
    "assets = []\n",
    "sharpes = []\n",
    "try:\n",
    "    f1 = open(\"my_assets.txt\", \"r\")\n",
    "    f2 = open(\"my_sharpes.txt\", \"r\")\n",
    "    data1 = f1.readlines() \n",
    "    assets = np.array([np.array(data1[i].split()).astype(np.float64) for i in range(len(data1))])\n",
    "    data2 = f2.readlines() \n",
    "    sharpes = np.array([np.array(data2[i].split()).astype(np.float64) for i in range(len(data2))])\n",
    "    print('sucess')\n",
    "except IOError:\n",
    "    print('Error:file to open')\n",
    "    a, s= rm.get_asset_vecrs(ids)\n",
    "    assets = np.array([a[:,i] for i in range(a.shape[1])])\n",
    "    sharpes = np.array([s[:,i] for i in range(s.shape[1])])\n",
    "    f1 = open(\"my_assets.txt\", \"w\")\n",
    "    for i in range(assets.shape[0]):\n",
    "        for j in range(assets.shape[1] - 1):\n",
    "            f1.write(str(assets[i,j]) + \" \")\n",
    "        f1.write(str(assets[i,assets.shape[1] - 1]) + \"\\n\")\n",
    "    f2 = open(\"my_sharpes.txt\", \"w\")\n",
    "    for i in range(sharpes.shape[0]):\n",
    "        for j in range(sharpes.shape[1] - 1):\n",
    "             f2.write(str(sharpes[i,j]) + \" \")\n",
    "        f2.write(str(sharpes[i,sharpes.shape[1] - 1]) + \"\\n\")\n",
    "\n",
    "f2.close()\n",
    "f1.close()"
   ]
  },
  {
   "cell_type": "code",
   "execution_count": 4,
   "metadata": {},
   "outputs": [
    {
     "data": {
      "text/plain": [
       "29.220085084891867"
      ]
     },
     "execution_count": 4,
     "metadata": {},
     "output_type": "execute_result"
    }
   ],
   "source": [
    "np.var(sharpes[0])"
   ]
  },
  {
   "cell_type": "code",
   "execution_count": 5,
   "metadata": {},
   "outputs": [],
   "source": [
    "eps = 1e-5\n",
    "rfs = sharpes.min() - eps\n",
    "resharpes = np.array([(sharpes[i].mean() - rfs)/np.var(sharpes[i]) for i in range(sharpes.shape[0])])\n",
    "idx = np.argsort(resharpes)"
   ]
  },
  {
   "cell_type": "code",
   "execution_count": 6,
   "metadata": {},
   "outputs": [],
   "source": [
    "\n",
    "best_assets = assets[idx][::-1][:100]\n",
    "#should reduce sigma before corcoeff\n"
   ]
  },
  {
   "cell_type": "code",
   "execution_count": 102,
   "metadata": {},
   "outputs": [
    {
     "data": {
      "text/plain": [
       "array([  1.18467823e+01,   1.22064971e+01,   1.95847333e+00,\n",
       "         2.25029844e+00,   3.25950938e+00,   2.25554802e+00,\n",
       "         3.11292798e+00,   4.65590236e+00,   4.57251751e+00,\n",
       "         2.08150418e+00,   1.99891927e+00,   2.77507893e+00,\n",
       "         2.04276435e+00,   1.76928627e+00,   4.07561745e+00,\n",
       "         4.08213911e+00,   4.26448905e+00,   1.17220026e+00,\n",
       "         1.22240112e+00,   1.29828034e+01,   4.46856253e+00,\n",
       "         7.36003073e+00,   1.00316848e+01,   1.35819562e+01,\n",
       "         8.11759030e-01,   2.66324535e+00,   4.49035113e+00,\n",
       "         1.65852621e+00,   3.32229997e+00,   2.39657266e+00,\n",
       "         2.31371154e+00,   1.74340093e+00,   2.74647653e+00,\n",
       "         4.02843159e+00,   3.20075213e+00,   3.78573649e+00,\n",
       "         4.01128291e+00,   1.31048090e+00,   5.75584761e+00,\n",
       "         3.98966446e+00,   1.11928431e+01,   4.55214533e+00,\n",
       "         4.38664855e+00,   8.23894169e+00,   3.95373158e+00,\n",
       "         3.95165870e+00,   1.54698547e+00,   4.06182222e-01,\n",
       "         2.47720246e+00,   3.04973029e+00,   5.68986150e-01,\n",
       "         2.49202995e+00,   4.41733737e+00,   1.76970217e-01,\n",
       "         8.24733905e-01,   1.25596405e+00,   1.56158902e+00,\n",
       "         1.03700608e-01,   2.23579036e+00,   2.37935058e+00,\n",
       "         5.23126342e+00,   3.35260018e+00,   8.77933063e+00,\n",
       "         7.31835799e+00,   8.87641726e-01,   2.09464369e+00,\n",
       "         9.78739427e+00,   2.55948631e+01,   4.54216169e+00,\n",
       "         1.20951975e+01,   1.29249454e+01,   1.29014122e+01,\n",
       "         7.11988168e+00,   1.74709497e+00,   3.69125139e+00,\n",
       "         2.38406383e+00,   2.28868349e+00,   2.50370454e+00,\n",
       "         2.43325886e+00,   2.94081164e+00,   1.81675897e+00,\n",
       "         1.62888493e+00,   6.63065591e+00,   5.71989540e+00,\n",
       "         9.68063643e-01,   1.54147684e+00,   1.33883766e+00,\n",
       "        -2.17071809e-01,   3.65949063e+00,   2.52331406e+00,\n",
       "         4.58196880e+00,   4.82776244e+00,   1.73574230e+00,\n",
       "         3.98948887e+00,   5.01452838e-01,   3.20582412e+00,\n",
       "         1.19066242e+00,   1.82922879e+00,   3.67456065e+00,\n",
       "         1.81262672e+00,   5.86832345e+00,   2.03171520e+01,\n",
       "         8.75036487e-01,   3.51375633e+00,   1.34406862e+00,\n",
       "         2.13913767e+00,   4.64087279e+00,  -6.36037671e-02,\n",
       "         5.63702122e+00,   3.63032103e+00,   4.12781800e+00,\n",
       "         4.82313297e+00,   5.81241787e-01,   4.28586563e+00,\n",
       "         2.07082695e-01,   3.14881652e+00,   1.75827286e+00,\n",
       "         1.62749580e+00,   1.78954820e+00,   2.89017022e+00,\n",
       "         2.89470876e+00,   1.68017252e+01,   2.06708497e+00,\n",
       "         1.00164840e+00,   3.51226291e+00,   1.53229855e+00,\n",
       "         5.38163612e+00,   9.42079062e+00,   2.08727976e+00,\n",
       "         2.32207416e+00,   3.02825113e+00,   1.74361610e+00,\n",
       "         3.86014087e+00,   9.17726519e-01,   1.73324727e+00,\n",
       "         1.98716652e+00,   1.13031194e+00,   1.40120965e+00,\n",
       "         1.52179230e+00,   2.98884917e+00,   3.65535262e+00,\n",
       "         4.47167236e+00,   3.90900216e-01,   6.42468894e+00,\n",
       "         2.67456589e+00,  -1.42189852e-02,   1.47271395e+00,\n",
       "         9.91639480e-01,   2.14457690e+00,   1.83414711e+00,\n",
       "         4.28672867e+00,   5.49517537e+00,   4.25060191e+00,\n",
       "         3.25225240e+00,   6.69444060e+00,   2.81729099e-01,\n",
       "         5.34840437e+00,   1.23152830e+00,   1.88140248e+00,\n",
       "         4.09729475e+00,   4.47547380e-01,   2.22797720e+00,\n",
       "         5.40455125e-01,   4.30485263e+00,   3.05893975e+00,\n",
       "         5.61872223e-01,   6.96876945e-01,   1.86792047e+00,\n",
       "         3.09385322e+00,   1.82288486e+00,   2.86081454e-01,\n",
       "         1.51212517e+00,   2.32728664e+00,   2.58344695e+00,\n",
       "         2.70416577e+00,   2.46792976e+00,   2.74019979e+00,\n",
       "         4.18309846e+00,   3.89214635e+00,   1.49227475e+00,\n",
       "         4.16386140e+00,   1.42728950e+01,   7.76112645e+00,\n",
       "         4.27385677e+00,   8.25893649e+00,   2.99752020e+00,\n",
       "         7.97345384e+00,   8.00431601e+00,   4.69944372e+00,\n",
       "         1.56894005e+00,   2.68519727e+00,   2.81024938e+00,\n",
       "         1.96997631e+00,   2.86431413e+00,   9.93036880e-02,\n",
       "         2.29801432e+00,   4.73223024e+00,   4.93358712e+00,\n",
       "         5.07821035e+00,   5.09974595e+00,   1.41315703e+01,\n",
       "         2.65329284e+01,   1.17355783e+00,   1.61973940e+00,\n",
       "         1.39905402e+00,   1.79316524e+00,   8.88066418e-01,\n",
       "         2.45439042e+00,   2.06890406e+00,   4.51482757e+00,\n",
       "         1.75379059e+00,   1.23516368e+00,   2.34943261e+00,\n",
       "         2.85906004e+00,   4.61970421e+00,   3.05841708e+01,\n",
       "         1.92235841e+01,   1.94586167e+00,   1.26124901e+00,\n",
       "         2.71166042e+00,   4.66360385e+00,   3.43541070e+00,\n",
       "         4.12816696e+00,   2.77639957e+00,   2.77949822e+00,\n",
       "         3.99472771e+00,   1.19275393e+01,   3.58376723e+00,\n",
       "         5.03805786e+00,   4.84757374e+00,   1.52461273e+00,\n",
       "         1.52096266e+00,   5.17213228e+00,   2.89181307e+00,\n",
       "         3.03918703e+01,   2.00481150e+00,   1.83818264e+00,\n",
       "         2.94123450e+00,   7.27945202e+00,   7.25405498e+00,\n",
       "         6.78432232e+00,   2.64944174e+00,   1.01361272e+00,\n",
       "        -2.67167378e-02,   7.42270737e-02,   6.01845239e-01,\n",
       "         4.28541426e+00,   4.76587586e+00,   2.59733333e+00,\n",
       "         4.41560803e-01,   1.71784671e+00,   6.88740720e-01,\n",
       "         3.47473388e+00,   1.73666829e+00,   1.65944915e+00,\n",
       "         2.04612781e+00,   2.16602790e+00,   6.49586283e+00,\n",
       "         2.27905724e+00,   1.73321171e+00,   2.50163441e+00,\n",
       "         2.70262112e+00,   1.65937528e+00,   1.73085634e+00,\n",
       "         2.79598032e+00,   2.33639105e+00,   1.67196186e+00,\n",
       "         1.89674316e+00,   5.52081292e+00,   1.34798629e+00,\n",
       "         4.27169769e+00,   1.13591215e+00,   8.18352531e-01,\n",
       "         1.48919906e+00,   1.49006524e+00,   2.28896765e+00,\n",
       "         4.29158162e+00,   1.75666959e+00,   3.21411485e+00,\n",
       "         4.15108660e+00,   1.04958141e+00,   1.10497146e+00,\n",
       "         3.11110397e+00,   7.88018898e-01,   1.17788568e+00,\n",
       "         8.51757796e-01,   3.14143098e+00,   2.23104409e+00,\n",
       "         3.38568010e+00,   7.00782879e+00,   6.01014437e-01,\n",
       "         6.09582394e-01,   3.74548744e+00,   1.86938926e+00,\n",
       "         1.32187425e+00,   2.31127293e+00,   3.07591464e+00,\n",
       "         1.47834085e+01,  -1.22708872e+00,   4.05910181e+00,\n",
       "         2.65707089e+00,   2.68504300e+00,   3.37072858e-01,\n",
       "         2.72749234e-01,   5.51522156e+00,   5.43329023e+00,\n",
       "         1.25584045e-02,   2.16684222e+00,   4.71079020e+00,\n",
       "         1.30737930e+00,   1.30740033e+00,   1.93068917e+00,\n",
       "         2.46650569e+00,   2.40937575e+00,   2.43909388e+00,\n",
       "         3.79436235e+00,   4.74592123e+00,   1.90829037e+01,\n",
       "         1.70444413e+00,   9.72772411e+00,   7.07481747e+00,\n",
       "         2.69297977e+00,   1.62495416e+00,   1.22045940e+00,\n",
       "         2.55630760e+00,   2.54931299e+00,   5.66182888e+00,\n",
       "         3.07858777e+00,   1.49696753e+00,   1.72111948e+00,\n",
       "         1.91385716e+00,   3.76979899e+00,   1.20163342e+00,\n",
       "        -3.99929357e-01,   2.31965972e+00,   3.77108947e+00,\n",
       "         4.86822425e+00,   5.25684681e+00,   3.54434954e+00,\n",
       "         9.06145225e-01,   1.27478771e+00,   2.17481246e+00,\n",
       "         2.21253606e+00,   4.34320484e+00,   3.64400546e+00,\n",
       "         6.08193935e+00,   2.19573694e+00,   2.61262961e+00,\n",
       "         1.16787667e+00,   3.33489918e+00,   2.62453788e-01,\n",
       "         2.70784125e+00,   9.23839759e+00,   9.64891583e+00,\n",
       "         4.83032978e+00,   3.29431805e+00,   2.89599966e+00,\n",
       "         3.60759017e+00,   7.07397001e-01,   2.64366368e+00,\n",
       "         3.53773681e+00,   1.08041638e+00,   4.87011344e+00,\n",
       "         1.11445669e+00,   4.61695631e+00,   3.68921079e+00,\n",
       "         3.06528610e+00,   1.13354553e-01,   3.35341325e-01,\n",
       "         2.39374523e+00,   1.14264424e+01,   3.96763174e+00,\n",
       "         2.97980976e+00,   9.15164075e-01,   4.15771692e+00,\n",
       "         5.62834112e-01,  -5.72939640e-02,   1.27757170e-01,\n",
       "         1.21668076e+00,   2.91946641e+00,   5.76342115e+00,\n",
       "         6.40050754e+00,   9.81870107e+00,   4.00845014e-01,\n",
       "         1.59630154e+00,   2.10315762e+00,   4.78660445e-01,\n",
       "         5.15025373e+00,   4.25531266e+00,   1.94636566e+00,\n",
       "         4.45966837e+00,   3.15830686e-01,  -1.92642596e+00,\n",
       "         2.70113944e+00,   3.09836648e+00,   1.28029206e+01,\n",
       "         1.05416162e+00,   5.26818363e+00,   3.00956916e+00,\n",
       "         6.36760594e+00,   6.36752039e+00,  -1.15840073e+00,\n",
       "         3.54415698e+00,   1.49234518e+00,   4.57791131e+00,\n",
       "         2.79480001e+00,   2.90146870e+00,   6.30110132e+00,\n",
       "         2.37522817e+00,   4.39500904e+00,   4.82947309e+00,\n",
       "         3.15074629e+00,   2.09609729e+00,   2.30949704e+00,\n",
       "         4.70980999e+00,   4.02290874e+00,   2.00781254e+00,\n",
       "         1.65085869e+00,   5.18250099e+00,   1.98459065e+00,\n",
       "         1.28780016e+00,   1.28773263e+00,   6.73910653e-01,\n",
       "         8.32006439e+00,   4.97664044e+00,   4.46525093e+00,\n",
       "         3.88942902e+00,   1.85079229e+01,   5.09855878e+00,\n",
       "         2.08113007e+00,   2.21572609e+00,   1.95449811e+00,\n",
       "         1.36821860e+00,   2.12847713e+00,   1.65261676e+00,\n",
       "         3.94772377e+00,   2.52575961e+00,   2.96228728e+00,\n",
       "         8.70397109e-01,   1.89384665e+00,   2.80191827e+00,\n",
       "         1.24166675e+00,   2.48877336e+00,   5.21120392e+00,\n",
       "         3.22324253e+00,   5.66119181e+00,   3.17132742e+00,\n",
       "         3.99491735e+00,   1.79014413e+00,   2.99927996e+00,\n",
       "         4.22609940e+00,   2.11906224e+00,   2.12162343e+00,\n",
       "         1.51265158e+00,   1.16346064e+00,   2.86519233e+00,\n",
       "         1.81590821e+00,   1.40783742e+00,   3.02898844e+00,\n",
       "         2.06734223e+00,   4.26503742e-01,   2.41564912e+00,\n",
       "         1.43598889e+00,   7.26492593e-01,   8.56162758e-01,\n",
       "         6.45166528e+00,   6.43443389e+00,   4.20819599e-01,\n",
       "         3.01848436e+00,   1.84962940e-01,   6.79863885e+00,\n",
       "         1.83818264e+00,   3.62812242e+00,   1.28610913e+00,\n",
       "         2.18840121e+00,   2.05215047e+00,   1.02657430e+01,\n",
       "         4.32655925e+00,   1.05447957e+01,   1.07846729e+01,\n",
       "         1.07511031e+01,   6.08417035e+00,   1.10824664e+00,\n",
       "         1.34540385e+00,   2.53344437e+00,   5.54581863e+00,\n",
       "         1.06733779e+00,   2.93375379e+00,   1.16083140e+00,\n",
       "         5.09363725e+00,   6.27337257e+00,   6.01761493e-01,\n",
       "         2.44041328e+00,   5.26769455e+00,   4.08726899e+00,\n",
       "         1.23014997e+00,   1.52211499e+00,   1.28732808e+00,\n",
       "         5.49686445e+00,   5.53037859e+00,   2.44204340e+00,\n",
       "         1.29189686e-02,   2.12965785e+00,   5.53112538e+00,\n",
       "         1.68460773e+00,   1.39497631e+00,   3.88059062e+00,\n",
       "         4.73173552e+00,   9.17526348e-01,   1.67952023e+00,\n",
       "         6.96704863e+00,   4.37793181e+00,   1.43015698e+00,\n",
       "         3.83584458e+00,   5.65927847e+00,   5.51893579e+00,\n",
       "         2.45337362e+00,   2.08530947e+00,   1.36318410e+00,\n",
       "         2.09572262e+00,   1.14158539e+00,   4.47186914e+00,\n",
       "         6.61598475e-01,   1.84019873e+00,   3.14791632e+00,\n",
       "         2.10707067e+00,   2.60120350e+00,   4.39856623e+00])"
      ]
     },
     "execution_count": 102,
     "metadata": {},
     "output_type": "execute_result"
    }
   ],
   "source": []
  },
  {
   "cell_type": "markdown",
   "metadata": {},
   "source": [
    "# Trivial Version"
   ]
  },
  {
   "cell_type": "code",
   "execution_count": 129,
   "metadata": {},
   "outputs": [
    {
     "data": {
      "text/plain": [
       "array([[  1.40809965],\n",
       "       [ 11.33072948],\n",
       "       [  6.21949339],\n",
       "       [  2.9272728 ],\n",
       "       [  0.37968862],\n",
       "       [  0.04191225],\n",
       "       [ -0.56536359],\n",
       "       [  7.40736055],\n",
       "       [  0.47440132],\n",
       "       [  1.61463416],\n",
       "       [  4.17041206],\n",
       "       [  2.56378436],\n",
       "       [  5.24610615],\n",
       "       [ -0.2702806 ],\n",
       "       [  2.16455221],\n",
       "       [  2.95806122],\n",
       "       [  3.89030218],\n",
       "       [  0.64064914],\n",
       "       [  0.54479766],\n",
       "       [  1.47922432]])"
      ]
     },
     "execution_count": 129,
     "metadata": {},
     "output_type": "execute_result"
    }
   ],
   "source": [
    "sigma = np.cov(best_assets[:20])\n",
    "RT = np.mean(best_assets[:20], axis=1).reshape(20,1)\n",
    "#RT = rets.reshape(20,1).astype(np.double)\n",
    "#sigma = np.cov(ret_cov)\n",
    "#RT\n"
   ]
  },
  {
   "cell_type": "code",
   "execution_count": 130,
   "metadata": {},
   "outputs": [
    {
     "name": "stdout",
     "output_type": "stream",
     "text": [
      "hh\n",
      "     pcost       dcost       gap    pres   dres\n",
      " 0: -2.5598e+02 -4.0027e+01  2e+03  4e+01  2e-16\n",
      " 1: -1.1112e+01 -1.8195e+01  6e+01  1e+00  4e-16\n",
      " 2: -8.1877e+00 -1.4836e+01  7e+00  2e-16  4e-16\n",
      " 3: -8.9751e+00 -9.8258e+00  9e-01  1e-16  3e-16\n",
      " 4: -9.3710e+00 -9.4988e+00  1e-01  4e-16  1e-16\n",
      " 5: -9.4297e+00 -9.4502e+00  2e-02  7e-17  2e-16\n",
      " 6: -9.4380e+00 -9.4398e+00  2e-03  4e-16  2e-16\n",
      " 7: -9.4390e+00 -9.4390e+00  2e-05  2e-16  2e-16\n",
      " 8: -9.4390e+00 -9.4390e+00  2e-07  3e-16  2e-16\n",
      "Optimal solution found.\n"
     ]
    }
   ],
   "source": [
    "sigma = np.cov(best_assets[:20])\n",
    "RT = np.mean(best_assets[:20], axis=1).reshape(20,1)\n",
    "#RT = rets.reshape(20,1).astype(np.double)\n",
    "#sigma = np.cov(ret_cov)\n",
    "#RT\n",
    "N = 20\n",
    "P = matrix(sigma)\n",
    "q = matrix(-2 * RT)\n",
    "G = matrix(np.vstack((np.identity(N), -np.identity(N))),tc='d')\n",
    "print(\"hh\")\n",
    "h = matrix(np.hstack((0.1 * np.ones(N), np.ones(N) * -0.01)), tc='d')\n",
    "A = matrix(np.ones(N), (1,N)) \n",
    "b = matrix([1.0])\n",
    "sol = solvers.qp(P, q, G, h, A, b)\n",
    "W = sol['x']"
   ]
  },
  {
   "cell_type": "code",
   "execution_count": 132,
   "metadata": {},
   "outputs": [
    {
     "name": "stdout",
     "output_type": "stream",
     "text": [
      "[[ 1.00000016  9.99999998  9.99999997  9.99999854  1.00000011  1.00000009\n",
      "   1.00000006  9.99999997  1.00000012  1.00000024  9.9999998   9.00000165\n",
      "   9.99999993  1.00000007  1.00000044  9.99999866  9.99999972  1.00000014\n",
      "   1.00000013  1.00000023]]\n",
      "[330 368  80 348 523 419 251 245 483  95 441 396 417  47 243  53 194 145\n",
      " 376 501]\n"
     ]
    }
   ],
   "source": [
    "print(np.array(W * 100).T)\n",
    "print(idx[:20][::-1])\n",
    "w = W"
   ]
  },
  {
   "cell_type": "code",
   "execution_count": 174,
   "metadata": {},
   "outputs": [
    {
     "data": {
      "text/plain": [
       "array([[ 1.        ,  0.98797752,  0.09092401, ..., -0.00319322,\n",
       "         0.02094697,  0.03845862],\n",
       "       [ 0.98797752,  1.        ,  0.19480697, ...,  0.10558068,\n",
       "         0.14190342,  0.15378604],\n",
       "       [ 0.09092401,  0.19480697,  1.        , ...,  0.52487126,\n",
       "         0.60065338,  0.63806002],\n",
       "       ..., \n",
       "       [-0.00319322,  0.10558068,  0.52487126, ...,  1.        ,\n",
       "         0.93370724,  0.95536563],\n",
       "       [ 0.02094697,  0.14190342,  0.60065338, ...,  0.93370724,\n",
       "         1.        ,  0.95275921],\n",
       "       [ 0.03845862,  0.15378604,  0.63806002, ...,  0.95536563,\n",
       "         0.95275921,  1.        ]])"
      ]
     },
     "execution_count": 174,
     "metadata": {},
     "output_type": "execute_result"
    }
   ],
   "source": [
    "b = np.array([best_assets[i]/np.sqrt(np.var(best_assets[i])) for i in range(best_assets.shape[0])])\n",
    "np.corrcoef(b)"
   ]
  },
  {
   "cell_type": "code",
   "execution_count": 175,
   "metadata": {},
   "outputs": [],
   "source": [
    "b = best_assets[:50]\n",
    "n = 20\n",
    "btmp = best_assets[0]\n",
    "indexs = [0]\n",
    "for i in range(1, n):\n",
    "    #print(b.shape)\n",
    "    cor = np.corrcoef(b)\n",
    "    #print(cor)\n",
    "    i = np.argmin(np.abs(cor[0]))\n",
    "    indexs.append(i)\n",
    "    assert(btmp.shape == b[i].shape),'error shape'\n",
    "    btmp = btmp + b[i]\n",
    "    #print(b.shape)\n",
    "    #print(btmp.shape,\"btmp\")\n",
    "    b = np.delete(b, 0, axis = 0)\n",
    "    b = np.insert(b,0,btmp, axis = 0)\n",
    "\n",
    "best_ever = b[indexs]\n",
    "\n"
   ]
  },
  {
   "cell_type": "code",
   "execution_count": 176,
   "metadata": {},
   "outputs": [
    {
     "data": {
      "text/plain": [
       "(20, 65)"
      ]
     },
     "execution_count": 176,
     "metadata": {},
     "output_type": "execute_result"
    }
   ],
   "source": [
    "best_ever.shape"
   ]
  },
  {
   "cell_type": "code",
   "execution_count": 105,
   "metadata": {},
   "outputs": [
    {
     "data": {
      "text/plain": [
       "528.0"
      ]
     },
     "execution_count": 105,
     "metadata": {},
     "output_type": "execute_result"
    }
   ],
   "source": [
    "\n",
    "(cov == cov.T).astype(int).sum() / 528"
   ]
  },
  {
   "cell_type": "code",
   "execution_count": 109,
   "metadata": {},
   "outputs": [],
   "source": [
    "f1 = open(\"my_ids.txt\", \"w\")\n",
    "for i in range(idss.shape[0] - 1):\n",
    "    f1.write(str(idss[i]) + ' ')\n",
    "f1.write(str(idss[i]) + '\\n')\n",
    "f1.close()"
   ]
  },
  {
   "cell_type": "code",
   "execution_count": 100,
   "metadata": {},
   "outputs": [],
   "source": [
    "f1 = open(\"my_cov.txt\", \"w\")\n",
    "for i in range(cov.shape[0]):\n",
    "    for j in range(cov.shape[1] - 1):\n",
    "        f1.write(str(cov[i][j]) + ' ')\n",
    "    f1.write(str(cov[0,cov.shape[1] - 1]) + '\\n')\n",
    "f1.close()"
   ]
  },
  {
   "cell_type": "code",
   "execution_count": 56,
   "metadata": {},
   "outputs": [
    {
     "data": {
      "text/plain": [
       "False"
      ]
     },
     "execution_count": 56,
     "metadata": {},
     "output_type": "execute_result"
    }
   ],
   "source": [
    "'jos' in dic"
   ]
  },
  {
   "cell_type": "code",
   "execution_count": 168,
   "metadata": {},
   "outputs": [
    {
     "name": "stdout",
     "output_type": "stream",
     "text": [
      "     pcost       dcost       gap    pres   dres\n",
      " 0: -1.3001e+00 -2.0788e+00  4e+01  7e+00  3e+00\n",
      " 1: -6.4845e-01 -1.8228e+00  3e+00  3e-01  1e-01\n",
      " 2: -5.6043e-01 -9.6503e-01  4e-01  6e-04  2e-04\n",
      " 3: -8.6352e-01 -1.1279e+00  3e-01  1e-04  6e-05\n",
      " 4: -9.4400e-01 -9.5258e-01  9e-03  4e-06  2e-06\n",
      " 5: -9.5074e-01 -9.5083e-01  9e-05  4e-08  2e-08\n",
      " 6: -9.5081e-01 -9.5081e-01  9e-07  4e-10  2e-10\n",
      "Optimal solution found.\n"
     ]
    }
   ],
   "source": [
    "leng = len(one)\n",
    "P = matrix(sigma)\n",
    "q = matrix([-RT[i] for i in range(leng)])\n",
    "G = matrix([[float(i ==j) - float((i - 4) == j) for j in range(leng)]  for i in range(2 * leng)])\n",
    "\n",
    "h = matrix([0.1 if (i < leng) else -0.01 for i in range(leng)])\n",
    "A = matrix(one, (1,leng)) \n",
    "b = matrix([1.0])\n",
    "sol = solvers.qp(P, q, G, h, A, b)\n",
    "W = sol['x']"
   ]
  }
 ],
 "metadata": {
  "kernelspec": {
   "display_name": "Python 3",
   "language": "python",
   "name": "python3"
  },
  "language_info": {
   "codemirror_mode": {
    "name": "ipython",
    "version": 3
   },
   "file_extension": ".py",
   "mimetype": "text/x-python",
   "name": "python",
   "nbconvert_exporter": "python",
   "pygments_lexer": "ipython3",
   "version": "3.5.2"
  }
 },
 "nbformat": 4,
 "nbformat_minor": 2
}
